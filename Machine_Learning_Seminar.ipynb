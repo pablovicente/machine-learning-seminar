{
  "nbformat": 4,
  "nbformat_minor": 0,
  "metadata": {
    "colab": {
      "name": "Machine Learning Seminar.ipynb",
      "version": "0.3.2",
      "provenance": [],
      "collapsed_sections": [],
      "toc_visible": true
    },
    "kernelspec": {
      "name": "python3",
      "display_name": "Python 3"
    }
  },
  "cells": [
    {
      "metadata": {
        "id": "yRvEZK30J2fW",
        "colab_type": "text"
      },
      "cell_type": "markdown",
      "source": [
        "# Machine Learning Seminar\n",
        "\n",
        "\n",
        "\n",
        "---\n",
        "\n",
        "\n",
        "Pablo Vicente Juan\n",
        "\n",
        "Machine Learning Engineer @ Morgan Stanley"
      ]
    },
    {
      "metadata": {
        "id": "1ipHnl_zv8SL",
        "colab_type": "text"
      },
      "cell_type": "markdown",
      "source": [
        "**Supervised Learning**\n",
        "\n",
        "The dataset contains a set of known labels or results to be predicted, i.e., the objective to be inferred is known. For instance, if we have a dataset with emails labelled as spam or non-spam, the problem would be suitable for supervised learning.\n",
        "\n",
        "The training procedure consists on showing samples to the model and emitting a prediction. If the answer is wrong, the models is corrected by updating its parameters. The training process continues until some stopping criteria is met: performance level or limitation of resources could be some examples. \n",
        "\n",
        "Models in this category can be divided in two:\n",
        "\n",
        "\n",
        "*   Classification: The labels of the dataset are a categorical set. \n",
        "*   Regression: The target is a continuous value. For example, temperature forecast.\n",
        "\n",
        "\n",
        "**Unsupervised Learning**\n",
        "\n",
        "The dataset does not contain labels to predict. The objective consists on identifying underlying relationships on the data. Samples can be grouped based on similarity, where similarity can be defined in different ways. \n",
        "\n",
        "The main examples are clustering and dimensionality reduction. \n",
        "\n",
        "\n",
        "**Reinforcement Learning**\n",
        "\n",
        "The agents take actions based on its current state in order to maximize the reward, i.e., it learns to perform the task by trial and error. \n",
        "\n",
        "Imagine a game like Mario, we are allowed to move and jump (actions) within the map (environment) and the further we go the more points we obtain (reward).\n",
        "\n",
        "![alt text](https://upload.wikimedia.org/wikipedia/commons/thumb/1/1b/Reinforcement_learning_diagram.svg/500px-Reinforcement_learning_diagram.svg.png =400x300)\n",
        "\n",
        "Source: https://www.wikimedia.org\n"
      ]
    },
    {
      "metadata": {
        "id": "82B8NJBZJ-hu",
        "colab_type": "text"
      },
      "cell_type": "markdown",
      "source": [
        "## Import packages"
      ]
    },
    {
      "metadata": {
        "id": "duCgyD2yKCP5",
        "colab_type": "code",
        "colab": {}
      },
      "cell_type": "code",
      "source": [
        "%matplotlib inline\n",
        "\n",
        "import io\n",
        "import time\n",
        "import graphviz \n",
        "import itertools\n",
        "import numpy as np\n",
        "import pandas as pd\n",
        "import seaborn as sns\n",
        "import matplotlib.pyplot as plt\n",
        "\n",
        "from sklearn import tree\n",
        "from sklearn.svm import SVC\n",
        "from sklearn.cluster import KMeans\n",
        "from sklearn.neighbors import NearestNeighbors\n",
        "from sklearn import datasets, metrics, preprocessing\n",
        "from sklearn.model_selection import GridSearchCV, learning_curve\n",
        "from sklearn.linear_model import LogisticRegression, LinearRegression\n",
        "\n",
        "from keras.models import Sequential\n",
        "from keras.optimizers import rmsprop\n",
        "from keras.layers import Dense, Activation\n",
        "\n",
        "import warnings\n",
        "warnings.filterwarnings(\"ignore\")"
      ],
      "execution_count": 0,
      "outputs": []
    },
    {
      "metadata": {
        "id": "hfTWiFsUNNC_",
        "colab_type": "text"
      },
      "cell_type": "markdown",
      "source": [
        "## Load data"
      ]
    },
    {
      "metadata": {
        "id": "yXvYe2QHM2S8",
        "colab_type": "text"
      },
      "cell_type": "markdown",
      "source": [
        "For the majority of the seminar we are going to work with the Titanic dataset. It contains information about the passengers aboard the Titanic and whether they survived or not. \n",
        "\n",
        "<br>\n",
        "\n",
        "---\n",
        "<br>\n",
        "\n",
        "In this case, we are going to use 70% of our data for training and 30% for testing. A third set, called validation set, should be used to verify the performance of our models after training is completed. \n",
        "\n",
        "We should NOT look at the test set ever, not even once! If we do so, it will not be a test set again since we will be biased. Train your models, validate them on the validation set and once you feel confident about your model, test it. Do NOT optimize the parameters based on the test set results. Imagine a real world case, we do not know what the incoming test samples will be so we can't evaluate on them. Of course, we assume that they will be sampled from the same data distribution, otherwise our model will be useless.\n"
      ]
    },
    {
      "metadata": {
        "id": "p0kmyBYcJYFz",
        "colab_type": "code",
        "colab": {}
      },
      "cell_type": "code",
      "source": [
        "tr_split = 0.7\n",
        "\n",
        "# Load data\n",
        "titanic = pd.read_excel('titanic.xls')\n",
        "\n",
        "# Calculate train/test size\n",
        "rows, cols = titanic.shape\n",
        "tr_size = int(rows*tr_split)\n",
        "te_size = rows - tr_size\n",
        "\n",
        "# Split dataset\n",
        "train_df = titanic.iloc[:tr_size]\n",
        "test_df = titanic.iloc[tr_size:]"
      ],
      "execution_count": 0,
      "outputs": []
    },
    {
      "metadata": {
        "id": "kiKzyNFFNHqk",
        "colab_type": "text"
      },
      "cell_type": "markdown",
      "source": [
        "## Data analysis and visualization"
      ]
    },
    {
      "metadata": {
        "id": "MW68Kjs1OL0c",
        "colab_type": "text"
      },
      "cell_type": "markdown",
      "source": [
        "Before jumping to try different models, we need to study the dataset. It is necessary to understand the data to be able to find the right model and use the correct features. These are some questions you should ask:\n",
        "\n",
        "*   What is our target?\n",
        "*   What features are categorical?\n",
        "*   What features are numerical?\n",
        "*   Is there any correlation between variables?\n",
        "*   Are there null values in any of the features?\n",
        "\n",
        "\n",
        "\n",
        "\n"
      ]
    },
    {
      "metadata": {
        "id": "VZWG_VkdNKjn",
        "colab_type": "code",
        "outputId": "f0ef49c6-c8aa-4ef8-edf2-379d02e9d58b",
        "colab": {
          "base_uri": "https://localhost:8080/",
          "height": 278
        }
      },
      "cell_type": "code",
      "source": [
        "train_df.head(n=3)"
      ],
      "execution_count": 0,
      "outputs": [
        {
          "output_type": "execute_result",
          "data": {
            "text/html": [
              "<div>\n",
              "<style scoped>\n",
              "    .dataframe tbody tr th:only-of-type {\n",
              "        vertical-align: middle;\n",
              "    }\n",
              "\n",
              "    .dataframe tbody tr th {\n",
              "        vertical-align: top;\n",
              "    }\n",
              "\n",
              "    .dataframe thead th {\n",
              "        text-align: right;\n",
              "    }\n",
              "</style>\n",
              "<table border=\"1\" class=\"dataframe\">\n",
              "  <thead>\n",
              "    <tr style=\"text-align: right;\">\n",
              "      <th></th>\n",
              "      <th>pclass</th>\n",
              "      <th>survived</th>\n",
              "      <th>name</th>\n",
              "      <th>sex</th>\n",
              "      <th>age</th>\n",
              "      <th>sibsp</th>\n",
              "      <th>parch</th>\n",
              "      <th>ticket</th>\n",
              "      <th>fare</th>\n",
              "      <th>cabin</th>\n",
              "      <th>embarked</th>\n",
              "      <th>boat</th>\n",
              "      <th>body</th>\n",
              "      <th>home.dest</th>\n",
              "    </tr>\n",
              "  </thead>\n",
              "  <tbody>\n",
              "    <tr>\n",
              "      <th>0</th>\n",
              "      <td>1</td>\n",
              "      <td>1</td>\n",
              "      <td>Allen, Miss. Elisabeth Walton</td>\n",
              "      <td>female</td>\n",
              "      <td>29.0000</td>\n",
              "      <td>0</td>\n",
              "      <td>0</td>\n",
              "      <td>24160</td>\n",
              "      <td>211.3375</td>\n",
              "      <td>B5</td>\n",
              "      <td>S</td>\n",
              "      <td>2</td>\n",
              "      <td>NaN</td>\n",
              "      <td>St Louis, MO</td>\n",
              "    </tr>\n",
              "    <tr>\n",
              "      <th>1</th>\n",
              "      <td>1</td>\n",
              "      <td>1</td>\n",
              "      <td>Allison, Master. Hudson Trevor</td>\n",
              "      <td>male</td>\n",
              "      <td>0.9167</td>\n",
              "      <td>1</td>\n",
              "      <td>2</td>\n",
              "      <td>113781</td>\n",
              "      <td>151.5500</td>\n",
              "      <td>C22 C26</td>\n",
              "      <td>S</td>\n",
              "      <td>11</td>\n",
              "      <td>NaN</td>\n",
              "      <td>Montreal, PQ / Chesterville, ON</td>\n",
              "    </tr>\n",
              "    <tr>\n",
              "      <th>2</th>\n",
              "      <td>1</td>\n",
              "      <td>0</td>\n",
              "      <td>Allison, Miss. Helen Loraine</td>\n",
              "      <td>female</td>\n",
              "      <td>2.0000</td>\n",
              "      <td>1</td>\n",
              "      <td>2</td>\n",
              "      <td>113781</td>\n",
              "      <td>151.5500</td>\n",
              "      <td>C22 C26</td>\n",
              "      <td>S</td>\n",
              "      <td>NaN</td>\n",
              "      <td>NaN</td>\n",
              "      <td>Montreal, PQ / Chesterville, ON</td>\n",
              "    </tr>\n",
              "  </tbody>\n",
              "</table>\n",
              "</div>"
            ],
            "text/plain": [
              "   pclass  survived                            name     sex      age  sibsp  \\\n",
              "0       1         1   Allen, Miss. Elisabeth Walton  female  29.0000      0   \n",
              "1       1         1  Allison, Master. Hudson Trevor    male   0.9167      1   \n",
              "2       1         0    Allison, Miss. Helen Loraine  female   2.0000      1   \n",
              "\n",
              "   parch  ticket      fare    cabin embarked boat  body  \\\n",
              "0      0   24160  211.3375       B5        S    2   NaN   \n",
              "1      2  113781  151.5500  C22 C26        S   11   NaN   \n",
              "2      2  113781  151.5500  C22 C26        S  NaN   NaN   \n",
              "\n",
              "                         home.dest  \n",
              "0                     St Louis, MO  \n",
              "1  Montreal, PQ / Chesterville, ON  \n",
              "2  Montreal, PQ / Chesterville, ON  "
            ]
          },
          "metadata": {
            "tags": []
          },
          "execution_count": 68
        }
      ]
    },
    {
      "metadata": {
        "id": "RwLS45dEPo1y",
        "colab_type": "code",
        "outputId": "e86bc664-e1a1-4396-8fc5-6351a924fa95",
        "colab": {
          "base_uri": "https://localhost:8080/",
          "height": 340
        }
      },
      "cell_type": "code",
      "source": [
        "train_df.info()"
      ],
      "execution_count": 0,
      "outputs": [
        {
          "output_type": "stream",
          "text": [
            "<class 'pandas.core.frame.DataFrame'>\n",
            "RangeIndex: 916 entries, 0 to 915\n",
            "Data columns (total 14 columns):\n",
            "pclass       916 non-null int64\n",
            "survived     916 non-null int64\n",
            "name         916 non-null object\n",
            "sex          916 non-null object\n",
            "age          816 non-null float64\n",
            "sibsp        916 non-null int64\n",
            "parch        916 non-null int64\n",
            "ticket       916 non-null object\n",
            "fare         916 non-null float64\n",
            "cabin        281 non-null object\n",
            "embarked     914 non-null object\n",
            "boat         392 non-null object\n",
            "body         90 non-null float64\n",
            "home.dest    742 non-null object\n",
            "dtypes: float64(3), int64(4), object(7)\n",
            "memory usage: 100.3+ KB\n"
          ],
          "name": "stdout"
        }
      ]
    },
    {
      "metadata": {
        "id": "K7bdZsMlPu--",
        "colab_type": "text"
      },
      "cell_type": "markdown",
      "source": [
        "Some features might be useful but if they contain null values or other errors. Thus, it is necessary to fill or remove values in many cases."
      ]
    },
    {
      "metadata": {
        "id": "4rFnMO78QSJR",
        "colab_type": "code",
        "outputId": "d128b62e-d31b-4eaa-8c9d-355b1663c6dc",
        "colab": {
          "base_uri": "https://localhost:8080/",
          "height": 68
        }
      },
      "cell_type": "code",
      "source": [
        "train_df.age.isnull().value_counts()"
      ],
      "execution_count": 0,
      "outputs": [
        {
          "output_type": "execute_result",
          "data": {
            "text/plain": [
              "False    816\n",
              "True     100\n",
              "Name: age, dtype: int64"
            ]
          },
          "metadata": {
            "tags": []
          },
          "execution_count": 70
        }
      ]
    },
    {
      "metadata": {
        "id": "Ri5OG5ozOqy6",
        "colab_type": "text"
      },
      "cell_type": "markdown",
      "source": [
        "We want to predict who survived, let's start by analyzing the target feature (1:survived, 0:died)."
      ]
    },
    {
      "metadata": {
        "id": "Yu8cDQfsMqCN",
        "colab_type": "code",
        "outputId": "d279eb6d-70bf-43d1-b589-b6895424b4ef",
        "colab": {
          "base_uri": "https://localhost:8080/",
          "height": 102
        }
      },
      "cell_type": "code",
      "source": [
        "display(train_df.survived.unique())\n",
        "print('*'*30)\n",
        "display(train_df.survived.value_counts())"
      ],
      "execution_count": 0,
      "outputs": [
        {
          "output_type": "display_data",
          "data": {
            "text/plain": [
              "array([1, 0])"
            ]
          },
          "metadata": {
            "tags": []
          }
        },
        {
          "output_type": "stream",
          "text": [
            "******************************\n"
          ],
          "name": "stdout"
        },
        {
          "output_type": "display_data",
          "data": {
            "text/plain": [
              "0    516\n",
              "1    400\n",
              "Name: survived, dtype: int64"
            ]
          },
          "metadata": {
            "tags": []
          }
        }
      ]
    },
    {
      "metadata": {
        "id": "WVCNEXpdB_kk",
        "colab_type": "text"
      },
      "cell_type": "markdown",
      "source": [
        "The target class is slightly unbalanced and we should consider it when selecting a metric to evaluate the results. If classes are 95%/5%, we would need to preprocess the number of samples in each class. There are several alternatives to solve the issue:\n",
        "\n",
        "* Downsample the overrepresented class\n",
        "* Oversample the underrepresented class\n",
        "* Modify the class weights of the classifier\n"
      ]
    },
    {
      "metadata": {
        "id": "AdHgRXeKRFy4",
        "colab_type": "text"
      },
      "cell_type": "markdown",
      "source": [
        "Pandas allows to select, group or filter with a similar syntax to SQL. Let's analyse the survival probabilities by class and/or sex. \n",
        "\n",
        "Note: *Group by* only works with discrete features.\n"
      ]
    },
    {
      "metadata": {
        "id": "tXet07EORkbj",
        "colab_type": "text"
      },
      "cell_type": "markdown",
      "source": [
        "**What is the average probability of survival based on class?**"
      ]
    },
    {
      "metadata": {
        "id": "gJGv2Zb2O_0g",
        "colab_type": "code",
        "outputId": "123bd1c6-5a37-45af-bf5c-750e74ae1f9a",
        "colab": {
          "base_uri": "https://localhost:8080/",
          "height": 173
        }
      },
      "cell_type": "code",
      "source": [
        "train_df[['pclass', 'survived']].groupby(['pclass']).mean()"
      ],
      "execution_count": 0,
      "outputs": [
        {
          "output_type": "execute_result",
          "data": {
            "text/html": [
              "<div>\n",
              "<style scoped>\n",
              "    .dataframe tbody tr th:only-of-type {\n",
              "        vertical-align: middle;\n",
              "    }\n",
              "\n",
              "    .dataframe tbody tr th {\n",
              "        vertical-align: top;\n",
              "    }\n",
              "\n",
              "    .dataframe thead th {\n",
              "        text-align: right;\n",
              "    }\n",
              "</style>\n",
              "<table border=\"1\" class=\"dataframe\">\n",
              "  <thead>\n",
              "    <tr style=\"text-align: right;\">\n",
              "      <th></th>\n",
              "      <th>survived</th>\n",
              "    </tr>\n",
              "    <tr>\n",
              "      <th>pclass</th>\n",
              "      <th></th>\n",
              "    </tr>\n",
              "  </thead>\n",
              "  <tbody>\n",
              "    <tr>\n",
              "      <th>1</th>\n",
              "      <td>0.619195</td>\n",
              "    </tr>\n",
              "    <tr>\n",
              "      <th>2</th>\n",
              "      <td>0.429603</td>\n",
              "    </tr>\n",
              "    <tr>\n",
              "      <th>3</th>\n",
              "      <td>0.256329</td>\n",
              "    </tr>\n",
              "  </tbody>\n",
              "</table>\n",
              "</div>"
            ],
            "text/plain": [
              "        survived\n",
              "pclass          \n",
              "1       0.619195\n",
              "2       0.429603\n",
              "3       0.256329"
            ]
          },
          "metadata": {
            "tags": []
          },
          "execution_count": 72
        }
      ]
    },
    {
      "metadata": {
        "id": "oYB5zCJYRq7n",
        "colab_type": "text"
      },
      "cell_type": "markdown",
      "source": [
        "**What is the average probability of survival based on class AND sex?**"
      ]
    },
    {
      "metadata": {
        "id": "sHplGkM3RvLf",
        "colab_type": "code",
        "outputId": "8aa110b6-984f-4290-d7d8-cd62bcef87e1",
        "colab": {
          "base_uri": "https://localhost:8080/",
          "height": 266
        }
      },
      "cell_type": "code",
      "source": [
        "train_df[['pclass', 'survived', 'sex']].groupby(['pclass', 'sex']).mean()"
      ],
      "execution_count": 0,
      "outputs": [
        {
          "output_type": "execute_result",
          "data": {
            "text/html": [
              "<div>\n",
              "<style scoped>\n",
              "    .dataframe tbody tr th:only-of-type {\n",
              "        vertical-align: middle;\n",
              "    }\n",
              "\n",
              "    .dataframe tbody tr th {\n",
              "        vertical-align: top;\n",
              "    }\n",
              "\n",
              "    .dataframe thead th {\n",
              "        text-align: right;\n",
              "    }\n",
              "</style>\n",
              "<table border=\"1\" class=\"dataframe\">\n",
              "  <thead>\n",
              "    <tr style=\"text-align: right;\">\n",
              "      <th></th>\n",
              "      <th></th>\n",
              "      <th>survived</th>\n",
              "    </tr>\n",
              "    <tr>\n",
              "      <th>pclass</th>\n",
              "      <th>sex</th>\n",
              "      <th></th>\n",
              "    </tr>\n",
              "  </thead>\n",
              "  <tbody>\n",
              "    <tr>\n",
              "      <th rowspan=\"2\" valign=\"top\">1</th>\n",
              "      <th>female</th>\n",
              "      <td>0.965278</td>\n",
              "    </tr>\n",
              "    <tr>\n",
              "      <th>male</th>\n",
              "      <td>0.340782</td>\n",
              "    </tr>\n",
              "    <tr>\n",
              "      <th rowspan=\"2\" valign=\"top\">2</th>\n",
              "      <th>female</th>\n",
              "      <td>0.886792</td>\n",
              "    </tr>\n",
              "    <tr>\n",
              "      <th>male</th>\n",
              "      <td>0.146199</td>\n",
              "    </tr>\n",
              "    <tr>\n",
              "      <th rowspan=\"2\" valign=\"top\">3</th>\n",
              "      <th>female</th>\n",
              "      <td>0.489362</td>\n",
              "    </tr>\n",
              "    <tr>\n",
              "      <th>male</th>\n",
              "      <td>0.157658</td>\n",
              "    </tr>\n",
              "  </tbody>\n",
              "</table>\n",
              "</div>"
            ],
            "text/plain": [
              "               survived\n",
              "pclass sex             \n",
              "1      female  0.965278\n",
              "       male    0.340782\n",
              "2      female  0.886792\n",
              "       male    0.146199\n",
              "3      female  0.489362\n",
              "       male    0.157658"
            ]
          },
          "metadata": {
            "tags": []
          },
          "execution_count": 73
        }
      ]
    },
    {
      "metadata": {
        "id": "pQmEQoe2UNz_",
        "colab_type": "text"
      },
      "cell_type": "markdown",
      "source": [
        "Graphs are a great tool to analyse any dataset, we might be able to spot relationships or patterns hidden in the data.\n",
        "\n",
        "**How was the age of the passengers distributed (split by survival)?**"
      ]
    },
    {
      "metadata": {
        "id": "3HP3xyqfUN7t",
        "colab_type": "code",
        "outputId": "879cad6f-d910-4c66-bf97-bd34f0114919",
        "colab": {
          "base_uri": "https://localhost:8080/",
          "height": 225
        }
      },
      "cell_type": "code",
      "source": [
        "g = sns.FacetGrid(train_df, col='survived')\n",
        "_ = g.map(plt.hist, 'age', bins=20)"
      ],
      "execution_count": 0,
      "outputs": [
        {
          "output_type": "display_data",
          "data": {
            "image/png": "[encoded data removed]",
            "text/plain": [
              "<Figure size 432x216 with 2 Axes>"
            ]
          },
          "metadata": {
            "tags": []
          }
        }
      ]
    },
    {
      "metadata": {
        "id": "nyixq-OIQVDt",
        "colab_type": "text"
      },
      "cell_type": "markdown",
      "source": [
        "**What if we split by sex AND survival?**"
      ]
    },
    {
      "metadata": {
        "id": "_OLo0xWeX91U",
        "colab_type": "code",
        "outputId": "2041abbc-13b5-469a-901e-bbae46ba6ba1",
        "colab": {
          "base_uri": "https://localhost:8080/",
          "height": 225
        }
      },
      "cell_type": "code",
      "source": [
        "grid = sns.FacetGrid(train_df, col='survived')\n",
        "_ = grid.map(sns.barplot, 'sex', 'fare', alpha=.5, ci=None)"
      ],
      "execution_count": 0,
      "outputs": [
        {
          "output_type": "display_data",
          "data": {
            "image/png": "[encoded data removed]",
            "text/plain": [
              "<Figure size 432x216 with 2 Axes>"
            ]
          },
          "metadata": {
            "tags": []
          }
        }
      ]
    },
    {
      "metadata": {
        "id": "dnljipDLjLN9",
        "colab_type": "text"
      },
      "cell_type": "markdown",
      "source": [
        "We can observe how the group of individiuals that survived paid more that those who died. "
      ]
    },
    {
      "metadata": {
        "id": "kWtsdakzjLU-",
        "colab_type": "code",
        "outputId": "324bee3d-e95c-442e-8ad3-57a76b60d729",
        "colab": {
          "base_uri": "https://localhost:8080/",
          "height": 279
        }
      },
      "cell_type": "code",
      "source": [
        "for i in train_df.survived.unique():\n",
        "    sns.distplot(train_df['fare'][train_df.survived==i], kde=1,label='{}'.format(i))\n",
        "\n",
        "_ = plt.legend()"
      ],
      "execution_count": 0,
      "outputs": [
        {
          "output_type": "display_data",
          "data": {
            "image/png": "[encoded data removed]",
            "text/plain": [
              "<Figure size 432x288 with 1 Axes>"
            ]
          },
          "metadata": {
            "tags": []
          }
        }
      ]
    },
    {
      "metadata": {
        "id": "wSSxso_kwads",
        "colab_type": "text"
      },
      "cell_type": "markdown",
      "source": [
        "Before feeding the training data to the classifier it is a good practice to study the correlation between features. If some features have very high correlation, we might be able to remove them. Furthermore, if some features are highly correlated with our target class, presumably those would have a higher impact on the final decision."
      ]
    },
    {
      "metadata": {
        "id": "YuuV62cIwalE",
        "colab_type": "code",
        "outputId": "127962fd-5e14-49d8-8172-2070367b5d21",
        "colab": {
          "base_uri": "https://localhost:8080/",
          "height": 282
        }
      },
      "cell_type": "code",
      "source": [
        "corr = train_df.corr()\n",
        "sns.heatmap(corr, cmap=\"YlGnBu\", annot=False)\n",
        "\n",
        "# For values, put annot=True"
      ],
      "execution_count": 0,
      "outputs": [
        {
          "output_type": "execute_result",
          "data": {
            "text/plain": [
              "<matplotlib.axes._subplots.AxesSubplot at 0x7f08f7415dd8>"
            ]
          },
          "metadata": {
            "tags": []
          },
          "execution_count": 77
        },
        {
          "output_type": "display_data",
          "data": {
            "image/png": "[encoded data removed]",
            "text/plain": [
              "<Figure size 432x288 with 2 Axes>"
            ]
          },
          "metadata": {
            "tags": []
          }
        }
      ]
    },
    {
      "metadata": {
        "id": "LKzC56nkDfTr",
        "colab_type": "text"
      },
      "cell_type": "markdown",
      "source": [
        "We are about to split our features and target in different arrays. To decide which features will be used for training, we need to verify whether we have the complete information. If null values are present, we need to decide whether to fill values or remove the entire sample."
      ]
    },
    {
      "metadata": {
        "id": "Xu2zPwuRZCS3",
        "colab_type": "code",
        "outputId": "6cb5952b-0c7d-4bc5-abeb-c5c358a1a5e2",
        "colab": {
          "base_uri": "https://localhost:8080/",
          "height": 272
        }
      },
      "cell_type": "code",
      "source": [
        "train_df.isna().sum()"
      ],
      "execution_count": 0,
      "outputs": [
        {
          "output_type": "execute_result",
          "data": {
            "text/plain": [
              "pclass         0\n",
              "survived       0\n",
              "name           0\n",
              "sex            0\n",
              "age          100\n",
              "sibsp          0\n",
              "parch          0\n",
              "ticket         0\n",
              "fare           0\n",
              "cabin        635\n",
              "embarked       2\n",
              "boat         524\n",
              "body         826\n",
              "home.dest    174\n",
              "dtype: int64"
            ]
          },
          "metadata": {
            "tags": []
          },
          "execution_count": 78
        }
      ]
    },
    {
      "metadata": {
        "id": "qbasujW2crzS",
        "colab_type": "text"
      },
      "cell_type": "markdown",
      "source": [
        "## Dataset preprocessing"
      ]
    },
    {
      "metadata": {
        "id": "1AqOeg3wD_IZ",
        "colab_type": "text"
      },
      "cell_type": "markdown",
      "source": [
        "Many of the algorithms do not accept text features, let's convert the categories to discrete numerical values."
      ]
    },
    {
      "metadata": {
        "id": "dttjG4hFcrGV",
        "colab_type": "code",
        "colab": {}
      },
      "cell_type": "code",
      "source": [
        "train_df.loc[:, 'sex'] = train_df.sex.map({'male':1, 'female':0}, )\n",
        "train_df.loc[:, 'embarked'] = train_df.embarked.map( {'S': 0, 'C': 1, 'Q': 2})\n",
        "\n",
        "test_df.loc[:, 'sex'] = test_df.sex.map({'male':1, 'female':0}, )\n",
        "test_df.loc[:, 'embarked'] = test_df.embarked.map( {'S': 0, 'C': 1, 'Q': 2})"
      ],
      "execution_count": 0,
      "outputs": []
    },
    {
      "metadata": {
        "id": "1iIEn8ggFZov",
        "colab_type": "code",
        "colab": {}
      },
      "cell_type": "code",
      "source": [
        "train_df = train_df.dropna(subset=['embarked', 'fare'])\n",
        "test_df = test_df.dropna(subset=['embarked', 'fare'])"
      ],
      "execution_count": 0,
      "outputs": []
    },
    {
      "metadata": {
        "id": "TFa92EA-EMJI",
        "colab_type": "text"
      },
      "cell_type": "markdown",
      "source": [
        "To facilitate our task, let's only keep those features without null values. "
      ]
    },
    {
      "metadata": {
        "id": "EfeE8EstfHhi",
        "colab_type": "code",
        "colab": {}
      },
      "cell_type": "code",
      "source": [
        "x_train = train_df[['pclass', 'sex', 'sibsp','parch', 'fare', 'embarked']]\n",
        "y_train = train_df['survived']\n",
        "\n",
        "x_test = test_df[['pclass', 'sex', 'sibsp','parch', 'fare', 'embarked']]\n",
        "y_test = test_df['survived']"
      ],
      "execution_count": 0,
      "outputs": []
    },
    {
      "metadata": {
        "id": "0O3KOyDiPwN4",
        "colab_type": "text"
      },
      "cell_type": "markdown",
      "source": [
        "Since the range of the features varies from one to another, some machine learning models have dificulties dealing with such ranges. Imagine a classifier that uses any sort of distance meassure to quantify the similarity of the datapoints, the features with bigger ranges will govern the decission. "
      ]
    },
    {
      "metadata": {
        "id": "HQr4W6sdO_J3",
        "colab_type": "code",
        "colab": {}
      },
      "cell_type": "code",
      "source": [
        "scaler = preprocessing.StandardScaler()\n",
        "scaler.fit(x_train[['fare']])\n",
        "\n",
        "x_train.loc[:, 'fare'] = scaler.transform(x_train[['fare']])\n",
        "x_test.loc[:, 'fare'] = scaler.transform(x_test[['fare']])"
      ],
      "execution_count": 0,
      "outputs": []
    },
    {
      "metadata": {
        "id": "Sa41RBJYKpaO",
        "colab_type": "text"
      },
      "cell_type": "markdown",
      "source": [
        "## Supervised Learning"
      ]
    },
    {
      "metadata": {
        "id": "exVigPKLSpxD",
        "colab_type": "text"
      },
      "cell_type": "markdown",
      "source": [
        "Now that we have prepared the dataset, let's look at different supervised models. The following function will help us to obtain the confusion matrix to evaluate the results.\n",
        "\n",
        "A confusion matrix allows us to show the results of our classifier in a table form. The rows represent the predicted class whereas the columns show the true value. The following table shows a complete representation of the metrics around the confusion matrix.\n",
        "\n",
        "![alt text](https://upload.wikimedia.org/wikipedia/commons/thumb/4/44/Preventive_Medicine_-_Statistics_Sensitivity_TPR%2C_Specificity_TNR%2C_PPV%2C_NPV%2C_FDR%2C_FOR%2C_ACCuracy%2C_Likelihood_Ratio%2C_Diagnostic_Odds_Ratio_2_Final_wiki.png/1600px-Preventive_Medicine_-_Statistics_Sensitivity_TPR%2C_Specificity_TNR%2C_PPV%2C_NPV%2C_FDR%2C_FOR%2C_ACCuracy%2C_Likelihood_Ratio%2C_Diagnostic_Odds_Ratio_2_Final_wiki.png =600x)\n",
        "\n",
        "Source: https://www.wikimedia.org"
      ]
    },
    {
      "metadata": {
        "id": "ACXFBjgoHadc",
        "colab_type": "code",
        "colab": {}
      },
      "cell_type": "code",
      "source": [
        "def plot_confusion_matrix(cm, classes,\n",
        "                          normalize=False,\n",
        "                          title='Confusion matrix',\n",
        "                          cmap=plt.cm.Blues):\n",
        "    if normalize:\n",
        "        cm = cm.astype('float') / cm.sum(axis=1)[:, np.newaxis]\n",
        "        print(\"Normalized confusion matrix\")\n",
        "    else:\n",
        "        print('Confusion matrix, without normalization')\n",
        "        \n",
        "    plt.imshow(cm, interpolation='nearest', cmap=cmap)\n",
        "    plt.title(title)\n",
        "    plt.grid(None)\n",
        "    plt.colorbar()\n",
        "    tick_marks = np.arange(len(classes))\n",
        "    plt.xticks(tick_marks, classes, rotation=45)\n",
        "    plt.yticks(tick_marks, classes)\n",
        "\n",
        "    fmt = '.2f' if normalize else 'd'\n",
        "    thresh = cm.max() / 2.\n",
        "    for i, j in itertools.product(range(cm.shape[0]), range(cm.shape[1])):\n",
        "        plt.text(j, i, format(cm[i, j], fmt),\n",
        "                 horizontalalignment=\"center\",\n",
        "                 color=\"white\" if cm[i, j] > thresh else \"black\")\n",
        "\n",
        "    plt.ylabel('True label')\n",
        "    plt.xlabel('Predicted label')\n",
        "    plt.tight_layout()"
      ],
      "execution_count": 0,
      "outputs": []
    },
    {
      "metadata": {
        "id": "3QlWy5t88b6k",
        "colab_type": "text"
      },
      "cell_type": "markdown",
      "source": [
        "### Linear Regression"
      ]
    },
    {
      "metadata": {
        "id": "2ioz3TaH8wuh",
        "colab_type": "text"
      },
      "cell_type": "markdown",
      "source": [
        "Linear regression calculates the (continuous) value of the dependent variable given a set of independent variables. As the name suggests, it assumes that the relationship between the features and the output is linear and given by a set of coefficients:\n",
        "\n",
        "$\\hat{y}(x) = \\sum_{i=1}^{d} w_i x_i + w_0$\n",
        "\n",
        "where $w$ represents the parameters of the models, $w_0$ is a constant (bias) and $d$ is the number of features. The aim is to minimize the distance from the data points to the predictions of our linear model.\n",
        "\n",
        "$\\underset{w}{\\arg\\min} \\frac{1}{2n} ||Xw - Y||^2$\n",
        "\n",
        "\n",
        "\n",
        "![alt text](https://i.ibb.co/SB3GwGP/linear-regression.png)"
      ]
    },
    {
      "metadata": {
        "id": "2IuNkMzY8cuk",
        "colab_type": "code",
        "colab": {}
      },
      "cell_type": "code",
      "source": [
        "lr = LinearRegression()\n",
        "lr.fit(x_train, y_train)\n",
        "\n",
        "y_pred = lr.predict(x_test)"
      ],
      "execution_count": 0,
      "outputs": []
    },
    {
      "metadata": {
        "id": "i9wlWbAfAz4G",
        "colab_type": "text"
      },
      "cell_type": "markdown",
      "source": [
        "Since our target is a binary variable, this model might not be the appropriate. Look in the following cell at the values predicted by the model. We could binarize the output to [0, 1]. However, the objective was to present Linear Regression as it is one of the simplest and most common models."
      ]
    },
    {
      "metadata": {
        "id": "qXGdXez98pCy",
        "colab_type": "code",
        "outputId": "7c7c9361-1bd0-4950-cbcf-9e551113b331",
        "colab": {
          "base_uri": "https://localhost:8080/",
          "height": 51
        }
      },
      "cell_type": "code",
      "source": [
        "y_pred[:10]"
      ],
      "execution_count": 0,
      "outputs": [
        {
          "output_type": "execute_result",
          "data": {
            "text/plain": [
              "array([0.67038841, 0.10381236, 0.07913588, 0.07913588, 0.06394872,\n",
              "       0.09445134, 0.63052477, 0.63052477, 0.06396748, 0.09464085])"
            ]
          },
          "metadata": {
            "tags": []
          },
          "execution_count": 85
        }
      ]
    },
    {
      "metadata": {
        "id": "wFB4_uLlKsYG",
        "colab_type": "text"
      },
      "cell_type": "markdown",
      "source": [
        "\n",
        "### Logistic Regression "
      ]
    },
    {
      "metadata": {
        "id": "CENtKVdpyzKB",
        "colab_type": "text"
      },
      "cell_type": "markdown",
      "source": [
        "Logistic regression aims to explain the relationship between the dependent variable and the independents variables, where the outcome of the dependen variable is binary. For each $x \\in \\mathbb{R}^d, w_0 \\in \\mathbb{R}$ and $w \\in \\mathbb{R}^d$, the probability of predicting class 1 is:\n",
        "\n",
        "$P_{w_0, w}(Y=1 | X=x) = logistic(w_0 + wx)$\n",
        "\n",
        "where:\n",
        "\n",
        "$logistic(z)  =  \\frac{1}{1+e^{-z}} = \\frac{e^{z}}{1+e^{-z}}$\n",
        "\n",
        "![alt text](https://i.ibb.co/rfWCjM7/logistic-regression.png)"
      ]
    },
    {
      "metadata": {
        "id": "9EpSovcMK36x",
        "colab_type": "code",
        "colab": {}
      },
      "cell_type": "code",
      "source": [
        "lr = LogisticRegression()\n",
        "lr.fit(x_train, y_train)\n",
        "\n",
        "y_pred = lr.predict(x_test)"
      ],
      "execution_count": 0,
      "outputs": []
    },
    {
      "metadata": {
        "id": "yt3Om8xYFMOq",
        "colab_type": "code",
        "outputId": "e8410bdd-8c33-4070-ee96-3257a2ab0ef7",
        "colab": {
          "base_uri": "https://localhost:8080/",
          "height": 331
        }
      },
      "cell_type": "code",
      "source": [
        "cm = metrics.confusion_matrix(y_test, y_pred)\n",
        "accuracy = metrics.accuracy_score(y_test, y_pred)\n",
        "\n",
        "print(\"Accuracy %.2f\" % (accuracy*100))\n",
        "plot_confusion_matrix(cm, classes= ['class 0', 'class 1'], normalize=True)"
      ],
      "execution_count": 0,
      "outputs": [
        {
          "output_type": "stream",
          "text": [
            "Accuracy 75.00\n",
            "Normalized confusion matrix\n"
          ],
          "name": "stdout"
        },
        {
          "output_type": "display_data",
          "data": {
            "image/png": "[encoded data removed]",
            "text/plain": [
              "<Figure size 432x288 with 2 Axes>"
            ]
          },
          "metadata": {
            "tags": []
          }
        }
      ]
    },
    {
      "metadata": {
        "id": "1nBfm-aFK4nz",
        "colab_type": "text"
      },
      "cell_type": "markdown",
      "source": [
        "### SVM"
      ]
    },
    {
      "metadata": {
        "id": "p9Ba8WttuJ9x",
        "colab_type": "text"
      },
      "cell_type": "markdown",
      "source": [
        "A SVM is a discriminative classifier which finds a hyperplane that linearly separates the samples in two groups. The algorithm \n",
        "\n",
        "\n",
        "\\begin{matrix}\n",
        "\\underset{w, t}{\\min} &  \\frac{1}{2}||w||_2^2  \\\\ \n",
        "s.t. &  y_i(wx_i - t) \\ge 1 \\text{ for all }i=1, 2, ..., n\n",
        "\\end{matrix}\n",
        "\n",
        "\n",
        "<br>\n",
        "\n",
        "Nothe that the SVM is only able to find a separator in two groups if they are linearly separable and always outputs the hyperplane with the maximum margin solution.. See the following picture:\n",
        "\n",
        "![alt text](https://i.ibb.co/BPGgZBj/svm-blobs.png)\n",
        "\n",
        "However, if the data is more complex a non linear classifier can be built using the **kernel trick**. In this case, the dot product is replaced by a non linear **kernel function**. The maximum margin hyperplane is now fit in this new feature space, usually a high dimensional space. \n",
        "\n",
        "\n",
        "![alt text](https://upload.wikimedia.org/wikipedia/commons/thumb/c/cc/Kernel_trick_idea.svg/1600px-Kernel_trick_idea.svg.png =600x)\n",
        "\n",
        "Source: https://commons.wikimedia.org\n"
      ]
    },
    {
      "metadata": {
        "id": "Cnl_zc5mK7X4",
        "colab_type": "code",
        "colab": {}
      },
      "cell_type": "code",
      "source": [
        "svc = SVC()\n",
        "svc.fit(x_train, y_train)\n",
        "\n",
        "y_pred = svc.predict(x_test)"
      ],
      "execution_count": 0,
      "outputs": []
    },
    {
      "metadata": {
        "id": "Pq4urEvJbdiA",
        "colab_type": "code",
        "outputId": "83a068e5-feec-4f1a-af0b-88902fac5945",
        "colab": {
          "base_uri": "https://localhost:8080/",
          "height": 331
        }
      },
      "cell_type": "code",
      "source": [
        "cm = metrics.confusion_matrix(y_test, y_pred)\n",
        "accuracy = metrics.accuracy_score(y_test, y_pred)\n",
        "\n",
        "print(\"Accuracy %.2f\" % (accuracy*100))\n",
        "plot_confusion_matrix(cm, classes= ['class 0', 'class 1'], normalize=True)"
      ],
      "execution_count": 0,
      "outputs": [
        {
          "output_type": "stream",
          "text": [
            "Accuracy 73.98\n",
            "Normalized confusion matrix\n"
          ],
          "name": "stdout"
        },
        {
          "output_type": "display_data",
          "data": {
            "image/png": "[encoded data removed]",
            "text/plain": [
              "<Figure size 432x288 with 2 Axes>"
            ]
          },
          "metadata": {
            "tags": []
          }
        }
      ]
    },
    {
      "metadata": {
        "id": "Ccn4uTiFK___",
        "colab_type": "text"
      },
      "cell_type": "markdown",
      "source": [
        "### Decission trees"
      ]
    },
    {
      "metadata": {
        "id": "RAVi0koK1-oj",
        "colab_type": "text"
      },
      "cell_type": "markdown",
      "source": [
        "A decision tree builds a decision model in a tree-like form during training time which is used during testing time to go from features observations(branches) to decissions (leaves). If the labels at the leaves are continous, the classifier is called regression trees. \n",
        "\n",
        "The procedure to build the tree consist on iterating through the different features and determine which one is able to obtain the best value for a given metric. Once a feature is selected, the dataset is splited in two and the procedure continues in each branch of the tree. Tipical metrics are the Gini coefficient or the Information Gain.\n",
        "\n",
        "![alt text](https://i.ibb.co/sH34LMp/decision-tree-titanic.png =900x)\n",
        "\n"
      ]
    },
    {
      "metadata": {
        "id": "mBjwu5LcLCMC",
        "colab_type": "code",
        "colab": {}
      },
      "cell_type": "code",
      "source": [
        "decision_tree = DecisionTreeClassifier()\n",
        "decision_tree.fit(x_train, y_train)\n",
        "\n",
        "y_pred = decision_tree.predict(x_test)"
      ],
      "execution_count": 0,
      "outputs": []
    },
    {
      "metadata": {
        "id": "tfYn1D2ugFCq",
        "colab_type": "code",
        "outputId": "8aefec5a-2443-4d02-e5cf-79364ef17651",
        "colab": {
          "base_uri": "https://localhost:8080/",
          "height": 331
        }
      },
      "cell_type": "code",
      "source": [
        "cm = metrics.confusion_matrix(y_test, y_pred)\n",
        "accuracy = metrics.accuracy_score(y_test, y_pred)\n",
        "\n",
        "print(\"Accuracy %.2f\" % (accuracy*100))\n",
        "plot_confusion_matrix(cm, classes= ['class 0', 'class 1'], normalize=True)"
      ],
      "execution_count": 0,
      "outputs": [
        {
          "output_type": "stream",
          "text": [
            "Accuracy 70.15\n",
            "Normalized confusion matrix\n"
          ],
          "name": "stdout"
        },
        {
          "output_type": "display_data",
          "data": {
            "image/png": "[encoded data removed]",
            "text/plain": [
              "<Figure size 432x288 with 2 Axes>"
            ]
          },
          "metadata": {
            "tags": []
          }
        }
      ]
    },
    {
      "metadata": {
        "id": "J8RYxWGxf9ou",
        "colab_type": "text"
      },
      "cell_type": "markdown",
      "source": [
        "**How to visualize the generated tree**"
      ]
    },
    {
      "metadata": {
        "id": "U4OWdh7Veo92",
        "colab_type": "code",
        "outputId": "4c64615d-62f3-4544-942f-9c8e2b89a74f",
        "colab": {
          "base_uri": "https://localhost:8080/",
          "height": 34
        }
      },
      "cell_type": "code",
      "source": [
        "dot_data = tree.export_graphviz(decision_tree, \n",
        "                                out_file=None, \n",
        "                                feature_names=x_train.columns,  \n",
        "                                class_names=['survived', 'died'],  \n",
        "                                filled=True, rounded=True,  ) \n",
        "graph = graphviz.Source(dot_data) \n",
        "graph.render(\"titanic\") "
      ],
      "execution_count": 0,
      "outputs": [
        {
          "output_type": "execute_result",
          "data": {
            "text/plain": [
              "'titanic.pdf'"
            ]
          },
          "metadata": {
            "tags": []
          },
          "execution_count": 92
        }
      ]
    },
    {
      "metadata": {
        "id": "Tdq41fMMF_Mt",
        "colab_type": "text"
      },
      "cell_type": "markdown",
      "source": [
        "### Parameter search"
      ]
    },
    {
      "metadata": {
        "id": "cm35M4anGGai",
        "colab_type": "text"
      },
      "cell_type": "markdown",
      "source": [
        "Each of the models presented have a number of parameters we need to tweak in order to improve our performance. Let's now look at how we could automate this procedure using grid search. "
      ]
    },
    {
      "metadata": {
        "id": "qxtpwWCqF_nt",
        "colab_type": "code",
        "colab": {}
      },
      "cell_type": "code",
      "source": [
        "dict_classifiers = {\n",
        "    \"Logistic Regression\": \n",
        "            {'classifier': LogisticRegression(),\n",
        "                'params' : [{\n",
        "                             'penalty': ['l1','l2'],\n",
        "                             'C': [0.001,0.01,0.1,1,10,100,1000]\n",
        "                            }]\n",
        "            },\n",
        "    \"Linear SVM\": \n",
        "            {'classifier': SVC(),\n",
        "                 'params': [{\n",
        "                             'C': [1, 10],\n",
        "                             'gamma': [0.001, 0.0001],\n",
        "                             'kernel': ['linear']\n",
        "                            }]\n",
        "            },\n",
        "    \"Decision Tree\":\n",
        "            {'classifier': DecisionTreeClassifier(),\n",
        "                 'params': [{\n",
        "                             'max_depth':[3, None]\n",
        "                            }]\n",
        "            }\n",
        "}\n",
        "\n",
        "def plot_learning_curve(estimator, title, X, y, ylim=None, cv=None,\n",
        "                        n_jobs=1, train_sizes=np.linspace(.1, 1.0, 5), \n",
        "                        plot=plt.plot):\n",
        "    \n",
        "    plt.figure()\n",
        "    plt.title(title)\n",
        "    if ylim is not None:\n",
        "        plt.ylim(*ylim)\n",
        "    plt.xlabel(\"Training examples\")\n",
        "    plt.ylabel(\"Score\")\n",
        "    \n",
        "    train_sizes, train_scores, test_scores = learning_curve(estimator, \n",
        "                                                            X, y, \n",
        "                                                            cv=cv, \n",
        "                                                            n_jobs=n_jobs, \n",
        "                                                            train_sizes=train_sizes)\n",
        "    train_scores_mean = np.mean(train_scores, axis=1)\n",
        "    train_scores_std = np.std(train_scores, axis=1)\n",
        "    test_scores_mean = np.mean(test_scores, axis=1)\n",
        "    test_scores_std = np.std(test_scores, axis=1)\n",
        "\n",
        "    plt.fill_between(train_sizes, train_scores_mean - train_scores_std,\n",
        "                     train_scores_mean + train_scores_std, alpha=0.1,\n",
        "                     color=\"r\")\n",
        "    plt.fill_between(train_sizes, test_scores_mean - test_scores_std,\n",
        "                     test_scores_mean + test_scores_std, alpha=0.1, color=\"g\")\n",
        "    \n",
        "    plot(train_sizes, train_scores_mean, 'o-', color=\"r\",\n",
        "          label=\"Training Score\")\n",
        "    plot(train_sizes, test_scores_mean, 'o-', color=\"g\",\n",
        "          label=\"Cross-validation Score\")\n",
        "\n",
        "    plt.legend(loc=4)\n",
        "    plt.show()"
      ],
      "execution_count": 0,
      "outputs": []
    },
    {
      "metadata": {
        "id": "BJcJcGpnHHzj",
        "colab_type": "code",
        "outputId": "f37e14ed-9b8d-403e-f95c-c087713a6019",
        "colab": {
          "base_uri": "https://localhost:8080/",
          "height": 973
        }
      },
      "cell_type": "code",
      "source": [
        "cv = 4\n",
        "results = []\n",
        "\n",
        "for key, classifier in dict_classifiers.items():\n",
        "        \n",
        "  grid = GridSearchCV(classifier['classifier'], \n",
        "                      classifier['params'],\n",
        "                      refit=True,\n",
        "                      cv= cv,\n",
        "                      scoring = 'accuracy', # scoring metric\n",
        "                      n_jobs = -1)\n",
        "  estimator = grid.fit(x_train, y_train)\n",
        "\n",
        "  train_score = estimator.score(x_train,y_train)\n",
        "  test_score = estimator.score(x_test, y_test)\n",
        "  \n",
        "  plot_learning_curve(estimator, \n",
        "                      \"{}\".format(key),\n",
        "                      x_train,\n",
        "                      y_train.reshape(-1, 1),\n",
        "                      ylim=None,\n",
        "                      cv=10)\n",
        "\n",
        "  results.append([key, train_score, test_score])\n",
        "  \n",
        "pd.DataFrame(data=results, columns=['Model', 'Train Score', 'Test Score'])"
      ],
      "execution_count": 0,
      "outputs": [
        {
          "output_type": "display_data",
          "data": {
            "image/png": "[encoded data removed]",
            "text/plain": [
              "<Figure size 432x288 with 1 Axes>"
            ]
          },
          "metadata": {
            "tags": []
          }
        },
        {
          "output_type": "display_data",
          "data": {
            "image/png": "[encoded data removed]",
            "text/plain": [
              "<Figure size 432x288 with 1 Axes>"
            ]
          },
          "metadata": {
            "tags": []
          }
        },
        {
          "output_type": "display_data",
          "data": {
            "image/png": "[encoded data removed]",
            "text/plain": [
              "<Figure size 432x288 with 1 Axes>"
            ]
          },
          "metadata": {
            "tags": []
          }
        },
        {
          "output_type": "execute_result",
          "data": {
            "text/html": [
              "<div>\n",
              "<style scoped>\n",
              "    .dataframe tbody tr th:only-of-type {\n",
              "        vertical-align: middle;\n",
              "    }\n",
              "\n",
              "    .dataframe tbody tr th {\n",
              "        vertical-align: top;\n",
              "    }\n",
              "\n",
              "    .dataframe thead th {\n",
              "        text-align: right;\n",
              "    }\n",
              "</style>\n",
              "<table border=\"1\" class=\"dataframe\">\n",
              "  <thead>\n",
              "    <tr style=\"text-align: right;\">\n",
              "      <th></th>\n",
              "      <th>Model</th>\n",
              "      <th>Train Score</th>\n",
              "      <th>Test Score</th>\n",
              "    </tr>\n",
              "  </thead>\n",
              "  <tbody>\n",
              "    <tr>\n",
              "      <th>0</th>\n",
              "      <td>Logistic Regression</td>\n",
              "      <td>0.789934</td>\n",
              "      <td>0.739796</td>\n",
              "    </tr>\n",
              "    <tr>\n",
              "      <th>1</th>\n",
              "      <td>Linear SVM</td>\n",
              "      <td>0.796499</td>\n",
              "      <td>0.739796</td>\n",
              "    </tr>\n",
              "    <tr>\n",
              "      <th>2</th>\n",
              "      <td>Decision Tree</td>\n",
              "      <td>0.812910</td>\n",
              "      <td>0.765306</td>\n",
              "    </tr>\n",
              "  </tbody>\n",
              "</table>\n",
              "</div>"
            ],
            "text/plain": [
              "                 Model  Train Score  Test Score\n",
              "0  Logistic Regression     0.789934    0.739796\n",
              "1           Linear SVM     0.796499    0.739796\n",
              "2        Decision Tree     0.812910    0.765306"
            ]
          },
          "metadata": {
            "tags": []
          },
          "execution_count": 94
        }
      ]
    },
    {
      "metadata": {
        "id": "bc3I8xdWJ0Br",
        "colab_type": "text"
      },
      "cell_type": "markdown",
      "source": [
        "### Feature Importance"
      ]
    },
    {
      "metadata": {
        "id": "ggOXr6PoJ0Z4",
        "colab_type": "text"
      },
      "cell_type": "markdown",
      "source": [
        "The **importance** tells us how big is the influence of the feature when making a decision. It is a good practice to look at what features have more weight since we might want to engineer more features around those or discard those with relatively low importance. \n",
        "\n",
        "Decision Trees in Sklearn comes with a handy attribute that returns the importance of the features. It uses the Gini importance to determine the relative weight of each features."
      ]
    },
    {
      "metadata": {
        "id": "I_FiElmLJ8HW",
        "colab_type": "code",
        "outputId": "783b78ce-90f8-4bd8-f13f-14ccc096bcbd",
        "colab": {
          "base_uri": "https://localhost:8080/",
          "height": 119
        }
      },
      "cell_type": "code",
      "source": [
        "decision_tree = DecisionTreeClassifier()\n",
        "decision_tree.fit(x_train, y_train)"
      ],
      "execution_count": 0,
      "outputs": [
        {
          "output_type": "execute_result",
          "data": {
            "text/plain": [
              "DecisionTreeClassifier(class_weight=None, criterion='gini', max_depth=None,\n",
              "            max_features=None, max_leaf_nodes=None,\n",
              "            min_impurity_decrease=0.0, min_impurity_split=None,\n",
              "            min_samples_leaf=1, min_samples_split=2,\n",
              "            min_weight_fraction_leaf=0.0, presort=False, random_state=None,\n",
              "            splitter='best')"
            ]
          },
          "metadata": {
            "tags": []
          },
          "execution_count": 95
        }
      ]
    },
    {
      "metadata": {
        "id": "8dK4rAgdKZvg",
        "colab_type": "code",
        "outputId": "6faa5e25-1dd0-4802-ae51-e9a016c4240c",
        "colab": {
          "base_uri": "https://localhost:8080/",
          "height": 296
        }
      },
      "cell_type": "code",
      "source": [
        "ft_importance = pd.DataFrame(data={'Feature':x_train.columns, 'Importance':decision_tree.feature_importances_})\n",
        "ft_importance = ft_importance.sort_values(by='Importance', ascending = False)\n",
        "sns.barplot(x=\"Feature\", y=\"Importance\", data=ft_importance)"
      ],
      "execution_count": 0,
      "outputs": [
        {
          "output_type": "execute_result",
          "data": {
            "text/plain": [
              "<matplotlib.axes._subplots.AxesSubplot at 0x7f08f7a5c5f8>"
            ]
          },
          "metadata": {
            "tags": []
          },
          "execution_count": 96
        },
        {
          "output_type": "display_data",
          "data": {
            "image/png": "[encoded data removed]",
            "text/plain": [
              "<Figure size 432x288 with 1 Axes>"
            ]
          },
          "metadata": {
            "tags": []
          }
        }
      ]
    },
    {
      "metadata": {
        "id": "W4aF28xAKvtt",
        "colab_type": "text"
      },
      "cell_type": "markdown",
      "source": [
        "## Unsupervised Learning"
      ]
    },
    {
      "metadata": {
        "id": "PtB83VjHyMAy",
        "colab_type": "text"
      },
      "cell_type": "markdown",
      "source": [
        "In this section we are going to look at a unsupervised problem and the k-means algorihtm. We will use the Iris dataset to try to find inner relationships in the data. "
      ]
    },
    {
      "metadata": {
        "id": "8HgrjjAvUr8M",
        "colab_type": "code",
        "colab": {}
      },
      "cell_type": "code",
      "source": [
        "iris = datasets.load_iris()\n",
        "X = pd.DataFrame(data=iris.data, columns=iris.feature_names)\n",
        "y = pd.DataFrame(data=iris.target, columns=['species'])"
      ],
      "execution_count": 0,
      "outputs": []
    },
    {
      "metadata": {
        "id": "9jqcAWs8WSoT",
        "colab_type": "text"
      },
      "cell_type": "markdown",
      "source": [
        "### Visualization"
      ]
    },
    {
      "metadata": {
        "id": "Rd28UycUWUOM",
        "colab_type": "code",
        "outputId": "b5413f67-2221-435d-bbf4-ded5e22dd3c7",
        "colab": {
          "base_uri": "https://localhost:8080/",
          "height": 311
        }
      },
      "cell_type": "code",
      "source": [
        "ft_1 = 'sepal length (cm)'\n",
        "ft_2 = 'sepal width (cm)'\n",
        "\n",
        "plt.scatter(X[ft_1], X[ft_2], c=y.species.values, cmap=\"YlGnBu\")\n",
        "plt.xlabel(ft_1)\n",
        "plt.ylabel(ft_2)\n",
        "plt.title(ft_1 + ' vs ' + ft_2)"
      ],
      "execution_count": 0,
      "outputs": [
        {
          "output_type": "execute_result",
          "data": {
            "text/plain": [
              "Text(0.5, 1.0, 'sepal length (cm) vs sepal width (cm)')"
            ]
          },
          "metadata": {
            "tags": []
          },
          "execution_count": 98
        },
        {
          "output_type": "display_data",
          "data": {
            "image/png": "[encoded data removed]",
            "text/plain": [
              "<Figure size 432x288 with 1 Axes>"
            ]
          },
          "metadata": {
            "tags": []
          }
        }
      ]
    },
    {
      "metadata": {
        "id": "RxGZSxN_LEYC",
        "colab_type": "text"
      },
      "cell_type": "markdown",
      "source": [
        "### K-Means"
      ]
    },
    {
      "metadata": {
        "id": "v6MfMeT0cqCF",
        "colab_type": "text"
      },
      "cell_type": "markdown",
      "source": [
        "Separates the samples *X* in *k* clusters based on the distance of the sample to the center of the cluster. \n",
        "\n",
        "There are a few concepts that needs clarification in the previous statement: \n",
        "-  where is the center of the cluster? \n",
        "-  how do we compute the distance to the center?\n",
        "\n",
        "Imagine we have a set of samples $X=(x_1, x_2, ..., x_n)$ where each sample is a d-dimensional vector, k-means will group the points in $k$ clusters by minimizing the intra-cluster sum of squares: \n",
        "\n",
        "$\\underset{S}{\\arg\\min} \\sum_{i=1}^k  \\sum_{x \\in S} (||x-\\mu_i||^2)$\n",
        "\n",
        "This is equivalent to minimizing the following:\n",
        "\n",
        "$\\underset{S} \\sum_{i=1}^k  \\frac{1}{2S_i} \\sum ||x-y||^2)$\n",
        "\n",
        "K-means works as follows:\n",
        "\n",
        "\n",
        "1.   $k$ centroids are randomly sampled\n",
        "2.   The elements in the dataset are assigned to the closest cluster\n",
        "3.   Centroids are recomputed and assined to  the mean point of every cluster\n",
        "4.   Repeat until some stopping criteria (same centroids, dissimilarity in cluster assignment)\n",
        "\n",
        "\n",
        "![alt text](https://upload.wikimedia.org/wikipedia/commons/d/d5/Kmeans_animation.gif =300x)\n",
        "\n",
        "Source: https://commons.wikimedia.org"
      ]
    },
    {
      "metadata": {
        "id": "PrwX1YF4LHy0",
        "colab_type": "code",
        "colab": {}
      },
      "cell_type": "code",
      "source": [
        "kmeans = KMeans(n_clusters=3)\n",
        "kmeans.fit(X, i)\n",
        "labels = kmeans.labels_"
      ],
      "execution_count": 0,
      "outputs": []
    },
    {
      "metadata": {
        "id": "H4qN7ZVBc1_q",
        "colab_type": "code",
        "outputId": "831c1ef7-68f5-4ef8-99e1-b7bbea5721a9",
        "colab": {
          "base_uri": "https://localhost:8080/",
          "height": 512
        }
      },
      "cell_type": "code",
      "source": [
        "ft_1 = 'sepal length (cm)'\n",
        "ft_2 = 'sepal width (cm)'\n",
        "\n",
        "f, ax = plt.subplots(3,3,figsize=(15,8))\n",
        "\n",
        "plt.subplot(1, 3, 1)\n",
        "plt.scatter(X[ft_1], X[ft_2])\n",
        "plt.xlabel(ft_1)\n",
        "plt.ylabel(ft_2)\n",
        "_ = plt.title('Raw')\n",
        "\n",
        "plt.subplot(1, 3, 2)\n",
        "plt.scatter(X[ft_1], X[ft_2], c=y.species.values, cmap=\"YlGnBu\")\n",
        "plt.xlabel(ft_1)\n",
        "plt.ylabel(ft_2)\n",
        "_ = plt.title('True class')\n",
        "\n",
        "plt.subplot(1, 3, 3)\n",
        "plt.scatter(X[ft_1], X[ft_2], c=labels.astype(np.float), cmap=\"YlGnBu\")\n",
        "plt.xlabel(ft_1)\n",
        "plt.ylabel(ft_2)\n",
        "_ = plt.title('Kmeans')"
      ],
      "execution_count": 0,
      "outputs": [
        {
          "output_type": "display_data",
          "data": {
            "image/png": "[encoded data removed]",
            "text/plain": [
              "<Figure size 1080x576 with 3 Axes>"
            ]
          },
          "metadata": {
            "tags": []
          }
        }
      ]
    },
    {
      "metadata": {
        "id": "956NMulLzq5T",
        "colab_type": "text"
      },
      "cell_type": "markdown",
      "source": [
        "## Neural Networks"
      ]
    },
    {
      "metadata": {
        "id": "rTV5FtkddxcO",
        "colab_type": "code",
        "colab": {}
      },
      "cell_type": "code",
      "source": [
        "tr_samples, n_features = x_train.shape\n",
        "te_samples, _ = x_test.shape"
      ],
      "execution_count": 0,
      "outputs": []
    },
    {
      "metadata": {
        "id": "_EYLQQSuztpZ",
        "colab_type": "code",
        "outputId": "c81c3dd5-c1d0-4389-ab88-990f32514fea",
        "colab": {
          "base_uri": "https://localhost:8080/",
          "height": 88
        }
      },
      "cell_type": "code",
      "source": [
        "model = Sequential()\n",
        "model.add(Dense(128, input_shape=(n_features,), activation='relu'))\n",
        "model.add(Dense(64, activation='relu'))\n",
        "model.add(Dense(1, activation='sigmoid'))\n",
        "\n",
        "opt = rmsprop(lr=0.0001, decay=1e-6)\n",
        "\n",
        "model.compile(loss='binary_crossentropy',\n",
        "              optimizer=opt,\n",
        "              metrics=['accuracy'])\n"
      ],
      "execution_count": 0,
      "outputs": [
        {
          "output_type": "stream",
          "text": [
            "WARNING:tensorflow:From /usr/local/lib/python3.6/dist-packages/tensorflow/python/framework/op_def_library.py:263: colocate_with (from tensorflow.python.framework.ops) is deprecated and will be removed in a future version.\n",
            "Instructions for updating:\n",
            "Colocations handled automatically by placer.\n"
          ],
          "name": "stdout"
        }
      ]
    },
    {
      "metadata": {
        "id": "84cB3J67dphe",
        "colab_type": "code",
        "outputId": "c7766278-e4dd-4bbd-a541-2c6a7e9977e6",
        "colab": {
          "base_uri": "https://localhost:8080/",
          "height": 428
        }
      },
      "cell_type": "code",
      "source": [
        "model.fit(x_train, y_train, epochs=10, batch_size=64)\n",
        "\n",
        "y_prob = model.predict(x_test)"
      ],
      "execution_count": 0,
      "outputs": [
        {
          "output_type": "stream",
          "text": [
            "WARNING:tensorflow:From /usr/local/lib/python3.6/dist-packages/tensorflow/python/ops/math_ops.py:3066: to_int32 (from tensorflow.python.ops.math_ops) is deprecated and will be removed in a future version.\n",
            "Instructions for updating:\n",
            "Use tf.cast instead.\n",
            "Epoch 1/10\n",
            "914/914 [==============================] - 1s 719us/step - loss: 0.6520 - acc: 0.5744\n",
            "Epoch 2/10\n",
            "914/914 [==============================] - 0s 27us/step - loss: 0.6385 - acc: 0.6028\n",
            "Epoch 3/10\n",
            "914/914 [==============================] - 0s 28us/step - loss: 0.6284 - acc: 0.6357\n",
            "Epoch 4/10\n",
            "914/914 [==============================] - 0s 27us/step - loss: 0.6203 - acc: 0.6685\n",
            "Epoch 5/10\n",
            "914/914 [==============================] - 0s 27us/step - loss: 0.6130 - acc: 0.6827\n",
            "Epoch 6/10\n",
            "914/914 [==============================] - 0s 27us/step - loss: 0.6065 - acc: 0.6893\n",
            "Epoch 7/10\n",
            "914/914 [==============================] - 0s 27us/step - loss: 0.6001 - acc: 0.6980\n",
            "Epoch 8/10\n",
            "914/914 [==============================] - 0s 27us/step - loss: 0.5939 - acc: 0.7068\n",
            "Epoch 9/10\n",
            "914/914 [==============================] - 0s 27us/step - loss: 0.5883 - acc: 0.7057\n",
            "Epoch 10/10\n",
            "914/914 [==============================] - 0s 26us/step - loss: 0.5834 - acc: 0.7188\n"
          ],
          "name": "stdout"
        }
      ]
    },
    {
      "metadata": {
        "id": "aXC4QKFSeaP_",
        "colab_type": "code",
        "outputId": "42b5f13f-3f0b-44d0-8d19-e004062c9b77",
        "colab": {
          "base_uri": "https://localhost:8080/",
          "height": 68
        }
      },
      "cell_type": "code",
      "source": [
        "y_pred = np.where(y_prob > 0.5, 1, 0)\n",
        "\n",
        "display(metrics.confusion_matrix(y_test, y_pred))\n",
        "display(metrics.accuracy_score(y_test, y_pred))"
      ],
      "execution_count": 0,
      "outputs": [
        {
          "output_type": "display_data",
          "data": {
            "text/plain": [
              "array([[272,  20],\n",
              "       [ 89,  11]])"
            ]
          },
          "metadata": {
            "tags": []
          }
        },
        {
          "output_type": "display_data",
          "data": {
            "text/plain": [
              "0.7219387755102041"
            ]
          },
          "metadata": {
            "tags": []
          }
        }
      ]
    },
    {
      "metadata": {
        "id": "2IzQeTRvzyhp",
        "colab_type": "text"
      },
      "cell_type": "markdown",
      "source": [
        "## Kaggle Competition"
      ]
    },
    {
      "metadata": {
        "id": "3hMHSexSh9Wz",
        "colab_type": "text"
      },
      "cell_type": "markdown",
      "source": [
        "To practice the tecniques we have learned today, we will do a competition on https://www.kaggle.com/. \n",
        "\n",
        "Please register and join the following challenge. The aim is to obtain the highest accuracy using any of the models we have learned or new ones that you would like to try. \n",
        "\n",
        "\n",
        "We have added a sample submission and the corresponding code as a reference. "
      ]
    },
    {
      "metadata": {
        "id": "GQgTugb7STMu",
        "colab_type": "text"
      },
      "cell_type": "markdown",
      "source": [
        "# References\n",
        "\n",
        "*  https://www.kaggle.com/amitkumarjaiswal/beginner-s-tutorial-to-titanic-using-scikit-learn\n",
        "\n",
        "*  https://en.wikipedia.org/wiki/Reinforcement_learning"
      ]
    }
  ]
}